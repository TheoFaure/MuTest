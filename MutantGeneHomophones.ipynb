{
 "cells": [
  {
   "cell_type": "markdown",
   "metadata": {},
   "source": [
    "Rule based homophones generation"
   ]
  },
  {
   "cell_type": "code",
   "execution_count": 113,
   "metadata": {
    "collapsed": true
   },
   "outputs": [],
   "source": [
    "import re"
   ]
  },
  {
   "cell_type": "code",
   "execution_count": 114,
   "metadata": {
    "collapsed": true
   },
   "outputs": [],
   "source": [
    "def file_len(fname):\n",
    "    with open(fname) as f:\n",
    "        for i, l in enumerate(f):\n",
    "            pass\n",
    "    return i + 1\n",
    "\n",
    "def nth_repl(s, sub, repl, nth):\n",
    "    find = s.find(sub)\n",
    "    # if find is not p1 we have found at least one match for the substring\n",
    "    i = find != -1\n",
    "    # loop util we find the nth or we find no match\n",
    "    while find != -1 and i != nth:\n",
    "        # find + 1 means we start at the last match start index + 1\n",
    "        find = s.find(sub, find + 1)\n",
    "        i += 1\n",
    "    # if i  is equal to nth we found nth matches so replace\n",
    "    if i == nth:\n",
    "        return s[:find]+repl+s[find + len(sub):]\n",
    "    return s"
   ]
  },
  {
   "cell_type": "code",
   "execution_count": 134,
   "metadata": {},
   "outputs": [],
   "source": [
    "def create_mutant_file(file):\n",
    "    len_file = file_len(file)\n",
    "    with open(file, 'r') as f, open('{}_mut_homophones'.format(file), 'w') as f2:\n",
    "        f2.write(\"{}\\n\".format(len_file))\n",
    "        for line in f:\n",
    "            line_formatted = (re.sub('[\\.,!?]', '', line)).lower()\n",
    "            words = line_formatted.split()\n",
    "            mutants = []\n",
    "            with open('homophones.txt', 'r') as homophones:\n",
    "                homoreader = csv.reader(homophones, delimiter=',', quotechar='|')\n",
    "                for homo in homoreader:\n",
    "                    for w in words:\n",
    "                        for h in homo:\n",
    "                            if h == w:\n",
    "                                print(w, h)\n",
    "                                for h2 in homo:\n",
    "                                    if h2 != h:\n",
    "                                        mut = line_formatted.replace(w, h2, 1)\n",
    "                                        mutants.append(mut)\n",
    "            f2.write(\"{}\\n\".format(len(mutants)))\n",
    "            f2.write(line_formatted)\n",
    "            for m in mutants:\n",
    "                f2.write(m)\n",
    "    print(\"finnish\")"
   ]
  },
  {
   "cell_type": "code",
   "execution_count": 135,
   "metadata": {},
   "outputs": [
    {
     "name": "stdout",
     "output_type": "stream",
     "text": [
      "in in\n",
      "in in\n",
      "by by\n",
      "great great\n",
      "its its\n",
      "sea sea\n",
      "to to\n",
      "in in\n",
      "in in\n",
      "which which\n",
      "which which\n",
      "great great\n",
      "in in\n",
      "in in\n",
      "in in\n",
      "in in\n",
      "plain plain\n",
      "finnish\n"
     ]
    }
   ],
   "source": [
    "create_mutant_file('ireland_small.txt')"
   ]
  },
  {
   "cell_type": "markdown",
   "metadata": {},
   "source": [
    "Inverted Mutation Testing for Bots Robustness Evaluation IMTVARE"
   ]
  }
 ],
 "metadata": {
  "kernelspec": {
   "display_name": "Python 3",
   "language": "python",
   "name": "python3"
  },
  "language_info": {
   "codemirror_mode": {
    "name": "ipython",
    "version": 3
   },
   "file_extension": ".py",
   "mimetype": "text/x-python",
   "name": "python",
   "nbconvert_exporter": "python",
   "pygments_lexer": "ipython3",
   "version": "3.5.2"
  }
 },
 "nbformat": 4,
 "nbformat_minor": 2
}
