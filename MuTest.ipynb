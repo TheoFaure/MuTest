{
 "cells": [
  {
   "cell_type": "code",
   "execution_count": 1,
   "metadata": {
    "collapsed": true
   },
   "outputs": [],
   "source": [
    "import http.client, urllib.request, urllib.parse, urllib.error\n",
    "import json\n",
    "from xml.etree import ElementTree"
   ]
  },
  {
   "cell_type": "code",
   "execution_count": 2,
   "metadata": {
    "collapsed": true
   },
   "outputs": [],
   "source": [
    "yandex_api_key = 'trnsl.1.1.20170310T112707Z.2838d6f86832fe3a.cfb3f9f194a56f93f29da44f892ba1d5be713e2a'\n",
    "translation_api_key = 'b9e77226876c4d0c8c0b9a8297cea1bb'\n",
    "token_translation = ''\n",
    "\n",
    "\n",
    "def send_request(method, host, url, body=None, params=None, headers=None):\n",
    "    try:\n",
    "        conn = http.client.HTTPSConnection(host)\n",
    "        if params is None:\n",
    "            if body is None:\n",
    "                conn.request(method, url, headers=headers)\n",
    "            else:\n",
    "                conn.request(method, url, body=body, headers=headers)\n",
    "        else:\n",
    "            if body is None and headers is None:\n",
    "                conn.request(method, \"%s?%s\" % (url, params))\n",
    "            else:\n",
    "                conn.request(method, \"%s?%s\" % (url, params), body=body, headers=headers)\n",
    "        response = conn.getresponse()\n",
    "        data = response.read()\n",
    "        headers = response.getheaders()\n",
    "        status = response.status\n",
    "        conn.close()\n",
    "        return data, headers, status\n",
    "    except Exception as e:\n",
    "        print(\"Error. HTML Response: \")\n",
    "        print(response.status)\n",
    "        print(response.read().decode('utf-8'))\n",
    "        print(response.getheaders())\n",
    "        raise e\n",
    "\n",
    "\n",
    "def translate_yandex(text, language):\n",
    "    params = urllib.parse.urlencode({\n",
    "        'key': yandex_api_key,\n",
    "        'text': text,\n",
    "        'lang': language,\n",
    "    })\n",
    "\n",
    "    try:\n",
    "        data, headers, status = send_request(\"GET\", 'translate.yandex.net', \"/api/v1.5/tr.json/translate\", params=params)\n",
    "        json_obj = json.loads(data.decode('utf-8'))\n",
    "        return json_obj['text'][0]\n",
    "    except Exception as e:\n",
    "        raise e\n",
    "\n",
    "\n",
    "def get_token_translation():\n",
    "    print(\"Getting access token for text translation\")\n",
    "    headers = {\n",
    "        'Ocp-Apim-Subscription-Key': translation_api_key,\n",
    "        'Content-Length': 0,\n",
    "    }\n",
    "    global token_translation\n",
    "\n",
    "    try:\n",
    "        data, headers, status = send_request(\"POST\", 'api.cognitive.microsoft.com', \"/sts/v1.0/issueToken\", headers=headers)\n",
    "        token_translation = data.decode('utf-8')\n",
    "        print(token_translation)\n",
    "    except Exception as e:\n",
    "        raise e\n",
    "\n",
    "\n",
    "def get_microsoft_translation(text, language):\n",
    "    headers = {\n",
    "        'Authorization': 'Bearer {token}'.format(token=token_translation)\n",
    "    }\n",
    "\n",
    "    params = urllib.parse.urlencode({\n",
    "        'text': text,\n",
    "        'to': language,\n",
    "    })\n",
    "\n",
    "    try:\n",
    "        data, headers, status = send_request(\"GET\", 'api.microsofttranslator.com', \"/v2/http.svc/Translate\", headers=headers, params=params)\n",
    "        tree = ElementTree.fromstring(data.decode('utf-8'))\n",
    "        return \"\".join((tree.text.split('\\n')[0].rsplit('\\xa0')))\n",
    "    except Exception as e:\n",
    "        raise e"
   ]
  },
  {
   "cell_type": "code",
   "execution_count": 3,
   "metadata": {
    "collapsed": true
   },
   "outputs": [],
   "source": [
    "def test_translator_metric(original_tr, mutants_tr):\n",
    "    score = 0\n",
    "    for m in mutants_tr:\n",
    "        if m == original_tr:\n",
    "            score += 1\n",
    "    return score/len(mutants_tr)\n",
    "\n",
    "# test_translator_metric('Quel est votre nom?', ['Quel est votre nom?', 'Quel est le nom de votre?', 'Quel est votre nom?', 'Quel est le nom de votre est?'])"
   ]
  },
  {
   "cell_type": "code",
   "execution_count": 21,
   "metadata": {
    "collapsed": true
   },
   "outputs": [],
   "source": [
    "def test_translator(file, translator):\n",
    "    general_score = 0\n",
    "    with open(file, 'r') as f:\n",
    "        nb_ex = int(f.readline().split('\\n')[0])\n",
    "        for ex in range(nb_ex):\n",
    "            nb_mutants = int(f.readline().split('\\n')[0])\n",
    "            original = f.readline().split('\\n')[0]\n",
    "            original_tr = translator(original, \"fr\")\n",
    "            mutants = []\n",
    "            mutants_tr = []\n",
    "\n",
    "            for n in range(nb_mutants):\n",
    "                m = f.readline().split('\\n')[0]\n",
    "                mutants.append(m)\n",
    "                mutants_tr.append(translator(m, \"fr\"))\n",
    "            \n",
    "            score = test_translator_metric(original_tr, mutants_tr)\n",
    "            general_score += score\n",
    "            print(\"The robustness rate is: {}\".format(score))\n",
    "            print(original_tr, mutants_tr)\n",
    "        f.close()\n",
    "        print(\"The average robustness on this test case is of: {}\".format(general_score/nb_ex))\n",
    "    "
   ]
  },
  {
   "cell_type": "code",
   "execution_count": 18,
   "metadata": {
    "scrolled": true
   },
   "outputs": [
    {
     "name": "stdout",
     "output_type": "stream",
     "text": [
      "Getting access token for text translation\n",
      "eyJ0eXAiOiJKV1QiLCJhbGciOiJIUzI1NiJ9.eyJzY29wZSI6Imh0dHBzOi8vYXBpLm1pY3Jvc29mdHRyYW5zbGF0b3IuY29tLyIsInN1YnNjcmlwdGlvbi1pZCI6Ijk3ODYxNmE2MzgzMTQzM2VhN2NmZjVhOWMwM2YxNTU5IiwicHJvZHVjdC1pZCI6IlRleHRUcmFuc2xhdG9yLkYwIiwiY29nbml0aXZlLXNlcnZpY2VzLWVuZHBvaW50IjoiaHR0cHM6Ly9hcGkuY29nbml0aXZlLm1pY3Jvc29mdC5jb20vaW50ZXJuYWwvdjEuMC8iLCJhenVyZS1yZXNvdXJjZS1pZCI6Ii9zdWJzY3JpcHRpb25zL2FhZjVjNjk1LTJiM2ItNDM0Yy1hODBhLWYzOGNjMzgzNDg2NC9yZXNvdXJjZUdyb3Vwcy9ncm91cGUvcHJvdmlkZXJzL01pY3Jvc29mdC5Db2duaXRpdmVTZXJ2aWNlcy9hY2NvdW50cy9UcmFuc2xhdG9yIiwiaXNzIjoidXJuOm1zLmNvZ25pdGl2ZXNlcnZpY2VzIiwiYXVkIjoidXJuOm1zLm1pY3Jvc29mdHRyYW5zbGF0b3IiLCJleHAiOjE0OTI2OTg1OTh9.Li1DxBsOFrf0KjQwiUHIHL3JI_m_HVY4qWfSd57SGGI\n"
     ]
    }
   ],
   "source": [
    "get_token_translation()"
   ]
  },
  {
   "cell_type": "code",
   "execution_count": 24,
   "metadata": {},
   "outputs": [
    {
     "name": "stdout",
     "output_type": "stream",
     "text": [
      "The robustness rate is: 0.0\n",
      "en europe, l'irlande est une île de l'atlantique nord [\"auberge de l'europe, l'irlande est une île de l'atlantique nord\", \"auberge de l'europe, l'irlande est une île de l'atlantique nord\"]\n",
      "The robustness rate is: 0.14285714285714285\n",
      "elle est séparée de la grande-bretagne à l'est par le canal du nord de la mer d'irlande et le canal saint-georges [\"elle est séparée de la grande-bretagne à l'est d'acheter le chenal nord la mer d'irlande et le canal saint-georges\", \"elle est séparée de la grande-bretagne à l'est, au revoir le chenal nord la mer d'irlande et le canal saint-georges\", \"elle est séparée de la grille de la grande-bretagne à l'est par le canal du nord de la mer d'irlande et le canal saint-georges\", \"elle est séparée de la grande-bretagne à l'est par le canal du nord de la mer d'irlande et le canal saint-georges\", \"elle est séparée de la grande-bretagne à l'est par le canal du nord, les irlandais voir et le canal saint-georges\", \"elle est séparée de la grande-bretagne, trop à l'est par le canal du nord de la mer d'irlande et le canal saint-georges\", \"elle est séparée de la grande-bretagne deux l'est par le canal du nord de la mer d'irlande et le canal saint-georges\"]\n",
      "The robustness rate is: 0.0\n",
      "l'irlande est la deuxième plus grande île des îles britanniques au troisième rang en europe et le vingtième plus grand sur terre [\"l'irlande est la deuxième plus grande île des îles britanniques, la troisième plus grande auberge de l'europe et de la vingtième plus grand sur terre\"]\n",
      "The robustness rate is: 0.0\n",
      "politiquement, l'irlande est divisée entre la république d'irlande, qui couvre les cinq sixièmes de l'île et d'irlande du nord qui fait partie du royaume-uni dans le nord-est de l'île [\"politiquement, l'irlande est divisée entre la république d'irlande, qui couvre les cinq sixièmes de l'île et d'irlande du nord qui fait partie du royaume-kinngdom dans le nord-est de l'île\", \"politiquement, l'irlande est divisée entre la république d'irlande sorcière couvre les cinq sixièmes de l'île et d'irlande du nord qui fait partie du royaume-uni dans le nord-est de l'île\", \"politiquement, l'irlande est divisée entre la république d'irlande sorcière couvre les cinq sixièmes de l'île et d'irlande du nord qui fait partie du royaume-uni dans le nord-est de l'île\"]\n",
      "The robustness rate is: 0.0\n",
      "en 2011, la population de l'irlande était d'environ 64 millions de classement le deuxième le plus peuplé de l'île en europe après la grande-bretagne [\"en 2011, la population de l'irlande était d'environ 64 millions de classement le deuxième le plus peuplé de l'île en europe après la grille de la grande-bretagne\", \"inn 2011, la population de l'irlande était d'environ 64 millions de classement le deuxième le plus peuplé de l'île en europe après la grande-bretagne\", \"inn 2011, la population de l'irlande était d'environ 64 millions de classement le deuxième le plus peuplé de l'île en europe après la grande-bretagne\"]\n",
      "The robustness rate is: 0.0\n",
      "peu moins de 46 millions d'habitants vivent dans la république d'irlande et un peu plus de 18 millions d'habitants vivent dans le nord de l'irlande [\"peu moins de 46 millions d'habitants vivent auberge de la république d'irlande et un peu plus de 18 millions d'habitants vivent dans le nord de l'irlande\", \"peu moins de 46 millions d'habitants vivent auberge de la république d'irlande et un peu plus de 18 millions d'habitants vivent dans le nord de l'irlande\"]\n",
      "The robustness rate is: 0.0\n",
      "la topographie de l'île comprend relativement basses montagnes entourant une plaine centrale avec plusieurs rivières navigables étendre l'intérieur des terres [\"la topographie de l'île comprend relativement basses montagnes entourant un plan central avec plusieurs rivières navigables étendre l'intérieur des terres\"]\n",
      "The average robustness on this test case is of: 0.02040816326530612\n"
     ]
    }
   ],
   "source": [
    "test_translator('ireland_small.txt_mut_homophones', translate_yandex)"
   ]
  },
  {
   "cell_type": "code",
   "execution_count": 19,
   "metadata": {
    "scrolled": true
   },
   "outputs": [
    {
     "name": "stdout",
     "output_type": "stream",
     "text": [
      "The robustness rate is: 0.0\n",
      "Comment vas-tu? ['Comment arg vous?', 'Comment les aou?', 'Comment les ygu?']\n",
      "The robustness rate is: 0.0\n",
      "Comment vous appelez-vous? ['Whwt est votre nom?', 'Whdt est votre nom?', 'Quel ih votre nom?']\n",
      "The robustness rate is: 0.0\n",
      "C’est l’été ['C’est majda', 'C’est gummer', 'C’est sumfer']\n",
      "The average robustness on this test case is of: 0.0\n"
     ]
    }
   ],
   "source": [
    "test_translator('test2.txt', get_microsoft_translation)"
   ]
  },
  {
   "cell_type": "markdown",
   "metadata": {},
   "source": [
    "Conclusion here:\n",
    "* Some translations resist to mutation (give the same answer)\n",
    "* Some translations dont't resist (different answer) but give an answer with good semantic\n",
    "* Some are totally bad\n",
    "\n",
    "We should:\n",
    "* Be able to consider a different answer with similar semantic as a good result\n",
    "* Give % of robustness\n",
    "* Give aspects in which the robot is not robust\n",
    "\n",
    "So, ways of development:\n",
    "* New bots. To test robustness of other types of bot.\n",
    "* New mutant types. To test robustness to different errors.\n",
    "* Method to compare the semantic similarity. To be sure that the created mutants mean the same thing."
   ]
  },
  {
   "cell_type": "code",
   "execution_count": null,
   "metadata": {
    "collapsed": true
   },
   "outputs": [],
   "source": []
  },
  {
   "cell_type": "code",
   "execution_count": null,
   "metadata": {},
   "outputs": [],
   "source": []
  }
 ],
 "metadata": {
  "kernelspec": {
   "display_name": "Python 3",
   "language": "python",
   "name": "python3"
  },
  "language_info": {
   "codemirror_mode": {
    "name": "ipython",
    "version": 3
   },
   "file_extension": ".py",
   "mimetype": "text/x-python",
   "name": "python",
   "nbconvert_exporter": "python",
   "pygments_lexer": "ipython3",
   "version": "3.5.2"
  }
 },
 "nbformat": 4,
 "nbformat_minor": 2
}
