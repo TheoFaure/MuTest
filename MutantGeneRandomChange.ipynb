{
 "cells": [
  {
   "cell_type": "markdown",
   "metadata": {},
   "source": [
    "Mutants Generator: Random deletion of letter"
   ]
  },
  {
   "cell_type": "code",
   "execution_count": 22,
   "metadata": {
    "collapsed": true
   },
   "outputs": [],
   "source": [
    "import random\n",
    "import re"
   ]
  },
  {
   "cell_type": "code",
   "execution_count": 24,
   "metadata": {
    "collapsed": true
   },
   "outputs": [],
   "source": [
    "def file_len(fname):\n",
    "    with open(fname) as f:\n",
    "        for i, l in enumerate(f):\n",
    "            pass\n",
    "    return i + 1"
   ]
  },
  {
   "cell_type": "code",
   "execution_count": 53,
   "metadata": {
    "collapsed": true
   },
   "outputs": [],
   "source": [
    "def create_mutant_file(file, nb_mutants):\n",
    "    len_file = file_len(file)\n",
    "    with open(file, 'r') as f, open('{}_mut_randomchange'.format(file), 'w') as f2:\n",
    "        f2.write(\"{}\\n\".format(len_file))\n",
    "        f2.write(\"{}\\n\".format(nb_mutants))\n",
    "        for line in f:\n",
    "            f2.write(line)\n",
    "            for i in range(nb_mutants):\n",
    "                index = random.randint(0, len(line)-1)\n",
    "                while re.match(r'[a-z]', line[index]) is None and line.strip(): \n",
    "                    index = random.randint(0, len(line)-1)\n",
    "                letter = random.choice('abcdefghijklmnopqrstuvwxyz')\n",
    "                line_mut1 = line[:index] + letter + line[index+1:]\n",
    "                f2.write(line_mut1)\n",
    "                \n",
    "    print(\"finnish\")"
   ]
  },
  {
   "cell_type": "code",
   "execution_count": 54,
   "metadata": {},
   "outputs": [
    {
     "name": "stdout",
     "output_type": "stream",
     "text": [
      "finnish\n"
     ]
    }
   ],
   "source": [
    "create_mutant_file('ireland.txt', 3)"
   ]
  }
 ],
 "metadata": {
  "kernelspec": {
   "display_name": "Python 3",
   "language": "python",
   "name": "python3"
  },
  "language_info": {
   "codemirror_mode": {
    "name": "ipython",
    "version": 3
   },
   "file_extension": ".py",
   "mimetype": "text/x-python",
   "name": "python",
   "nbconvert_exporter": "python",
   "pygments_lexer": "ipython3",
   "version": "3.5.2"
  }
 },
 "nbformat": 4,
 "nbformat_minor": 2
}
